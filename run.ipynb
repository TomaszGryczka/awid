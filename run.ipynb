{
 "cells": [
  {
   "cell_type": "markdown",
   "metadata": {},
   "source": [
    "# Automatic Differentiation in CNN"
   ]
  },
  {
   "cell_type": "code",
   "execution_count": 1,
   "metadata": {},
   "outputs": [
    {
     "name": "stdout",
     "output_type": "stream",
     "text": [
      "Epoch: 1. Average epoch loss: 19.320671341318842\n",
      "Train accuracy: 0.7148833333333333 (recognized 42893/60000)\n",
      "\n",
      "Epoch: 2. Average epoch loss: 7.0749573385885975\n",
      "Train accuracy: 0.8720166666666667 (recognized 52321/60000)\n",
      "\n",
      "Epoch: 3. Average epoch loss: 5.054294013102439\n",
      "Train accuracy: 0.8886 (recognized 53316/60000)\n",
      "\n",
      "397.403926 seconds (4.47 G allocations: 705.646 GiB, 8.54% gc time, 1.84% compilation time)\n",
      "\n",
      "\n",
      "Test accuracy: 0.9033 (recognized 9033/10000)\n",
      "\n"
     ]
    }
   ],
   "source": [
    "include(\"./network/cnn.jl\")\n",
    "\n",
    "using MLDatasets: MNIST\n",
    "using Flux\n",
    "\n",
    "train_data = MNIST(:train)\n",
    "test_data = MNIST(:test)\n",
    "\n",
    "x_train = reshape(train_data.features, 28, 28, :)\n",
    "y_train = Flux.onehotbatch(train_data.targets, 0:9)\n",
    "x_test = reshape(test_data.features, 28, 28, :)\n",
    "y_test = Flux.onehotbatch(test_data.targets, 0:9)\n",
    "\n",
    "# reduce number of samples for testing\n",
    "# x_train = x_train[:, :, 1:5000]\n",
    "# y_train = y_train[:, 1:5000]\n",
    "# x_test = x_test[:, :, 1:5000]\n",
    "# y_test = y_test[:, 1:5000]\n",
    "\n",
    "# training\n",
    "kernel_weights, hidden_weights, output_weights =  train(x_train, y_train', 3, 100, 1e-2)\n",
    "\n",
    "# testing\n",
    "test(x_test, y_test', kernel_weights, hidden_weights, output_weights)"
   ]
  }
 ],
 "metadata": {
  "kernelspec": {
   "display_name": "Julia 1.10.2",
   "language": "julia",
   "name": "julia-1.10"
  },
  "language_info": {
   "file_extension": ".jl",
   "mimetype": "application/julia",
   "name": "julia",
   "version": "1.10.2"
  }
 },
 "nbformat": 4,
 "nbformat_minor": 2
}
