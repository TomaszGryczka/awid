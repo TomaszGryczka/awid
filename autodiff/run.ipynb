{
 "cells": [
  {
   "cell_type": "markdown",
   "metadata": {},
   "source": [
    "# Automatic Differentiation in CNN"
   ]
  },
  {
   "cell_type": "code",
   "execution_count": 1,
   "metadata": {},
   "outputs": [
    {
     "data": {
      "text/plain": [
       "train (generic function with 1 method)"
      ]
     },
     "metadata": {},
     "output_type": "display_data"
    }
   ],
   "source": [
    "include(\"cnn.jl\")"
   ]
  },
  {
   "cell_type": "code",
   "execution_count": 2,
   "metadata": {},
   "outputs": [],
   "source": [
    "using MLDatasets: MNIST\n",
    "using Flux"
   ]
  },
  {
   "cell_type": "markdown",
   "metadata": {},
   "source": [
    "# Prepare MNIST data"
   ]
  },
  {
   "cell_type": "code",
   "execution_count": 3,
   "metadata": {},
   "outputs": [
    {
     "name": "stdout",
     "output_type": "stream",
     "text": [
      "Epoka: 1. Średnia strata dla epoki: 3.1303703252429993\n",
      "Dokładność: 0.12388333333333333 (rozpoznano 7433/60000)\n",
      "\n",
      "Epoka: 2. Średnia strata dla epoki: 13.947911217730484\n",
      "Dokładność: 0.64765 (rozpoznano 38859/60000)\n",
      "\n",
      "Epoka: 3. Średnia strata dla epoki: 5.732757090125316\n",
      "Dokładność: 0.8472833333333334 (rozpoznano 50837/60000)\n",
      "\n"
     ]
    }
   ],
   "source": [
    "train_data = MNIST(:train)\n",
    "\n",
    "x = reshape(train_data.features, 28, 28, :)\n",
    "y = Flux.onehotbatch(train_data.targets, 0:9)\n",
    "\n",
    "train(x, y', 3, 100, 1e-2)"
   ]
  }
 ],
 "metadata": {
  "kernelspec": {
   "display_name": "Julia 1.10.2",
   "language": "julia",
   "name": "julia-1.10"
  },
  "language_info": {
   "file_extension": ".jl",
   "mimetype": "application/julia",
   "name": "julia",
   "version": "1.10.2"
  }
 },
 "nbformat": 4,
 "nbformat_minor": 2
}
