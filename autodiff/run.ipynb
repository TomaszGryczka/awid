{
 "cells": [
  {
   "cell_type": "markdown",
   "metadata": {},
   "source": [
    "# Automatic Differentiation in CNN"
   ]
  },
  {
   "cell_type": "code",
   "execution_count": 1,
   "metadata": {},
   "outputs": [
    {
     "data": {
      "text/plain": [
       "train (generic function with 1 method)"
      ]
     },
     "metadata": {},
     "output_type": "display_data"
    }
   ],
   "source": [
    "include(\"cnn.jl\")"
   ]
  },
  {
   "cell_type": "code",
   "execution_count": 2,
   "metadata": {},
   "outputs": [],
   "source": [
    "using MLDatasets: MNIST\n",
    "using Flux"
   ]
  },
  {
   "cell_type": "markdown",
   "metadata": {},
   "source": [
    "# Prepare MNIST data"
   ]
  },
  {
   "cell_type": "code",
   "execution_count": 5,
   "metadata": {},
   "outputs": [
    {
     "name": "stdout",
     "output_type": "stream",
     "text": [
      "Epoka: 1. Strata: 7.771814536131185\n",
      "Dokładność: 0.1212 (rozpoznano 606/5000)\n",
      "\n",
      "Epoka: 2. Strata: 8.442143627272186\n",
      "Dokładność: 0.1446 (rozpoznano 723/5000)\n",
      "\n",
      "Epoka: 3. Strata: 9.08716035214499\n",
      "Dokładność: 0.1736 (rozpoznano 868/5000)\n",
      "\n",
      "Epoka: 4. Strata: 12.16879688257699\n",
      "Dokładność: 0.2056 (rozpoznano 1028/5000)\n",
      "\n",
      "Epoka: 5. Strata: 12.86181767511173\n",
      "Dokładność: 0.2532 (rozpoznano 1266/5000)\n",
      "\n",
      "Epoka: 6. Strata: 11.821441952727163\n",
      "Dokładność: 0.2912 (rozpoznano 1456/5000)\n",
      "\n",
      "Epoka: 7. Strata: 11.698396502155893\n",
      "Dokładność: 0.332 (rozpoznano 1660/5000)\n",
      "\n",
      "Epoka: 8. Strata: 11.648614925154346\n",
      "Dokładność: 0.3698 (rozpoznano 1849/5000)\n",
      "\n"
     ]
    }
   ],
   "source": [
    "train_data = MNIST(:train)\n",
    "\n",
    "x = reshape(train_data.features, 28, 28, :)\n",
    "y = Flux.onehotbatch(train_data.targets, 0:9)\n",
    "\n",
    "# reduce number of samples for testing\n",
    "x = x[:, :, 1:5000]\n",
    "y = y[:, 1:5000]\n",
    "\n",
    "train(x, y', 8)"
   ]
  }
 ],
 "metadata": {
  "kernelspec": {
   "display_name": "Julia 1.10.2",
   "language": "julia",
   "name": "julia-1.10"
  },
  "language_info": {
   "file_extension": ".jl",
   "mimetype": "application/julia",
   "name": "julia",
   "version": "1.10.2"
  }
 },
 "nbformat": 4,
 "nbformat_minor": 2
}
